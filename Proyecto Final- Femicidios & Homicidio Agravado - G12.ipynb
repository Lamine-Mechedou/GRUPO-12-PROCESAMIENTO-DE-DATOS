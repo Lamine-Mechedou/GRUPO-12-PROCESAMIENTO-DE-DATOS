{
 "cells": [
  {
   "cell_type": "code",
   "execution_count": 59,
   "id": "c2a26f54",
   "metadata": {},
   "outputs": [],
   "source": [
    "import pandas as pd\n",
    "import matplotlib.pyplot as plt\n",
    "import numpy as np\n",
    "from matplotlib import style\n",
    "import seaborn as sns\n"
   ]
  },
  {
   "cell_type": "code",
   "execution_count": 60,
   "id": "463887ce",
   "metadata": {},
   "outputs": [],
   "source": [
    "#Origen del csv url: http://datos.jus.gob.ar/dataset/registro-sistematizacion-y-seguimiento-de-femicidios-y-homicidios-agravados-por-el-genero/archivo/583cec9a-3022-4234-8b32-17692a267aac\n",
    "# Cargar el dataset\n",
    "df = pd.read_csv(\"registro-de-femicidios-20200109.csv \")"
   ]
  },
  {
   "cell_type": "code",
   "execution_count": 4,
   "id": "c5c3452a",
   "metadata": {},
   "outputs": [
    {
     "name": "stdout",
     "output_type": "stream",
     "text": [
      "   caso_numero  victima_edad victima_identidad_genero victima_tipo  \\\n",
      "0          310          47.0                    MUJER    PRINCIPAL   \n",
      "1          402           7.0                   HOMBRE    VINCULADO   \n",
      "2          237          18.0                    MUJER    PRINCIPAL   \n",
      "3          565          46.0                    MUJER    PRINCIPAL   \n",
      "4          594          27.0                    MUJER    PRINCIPAL   \n",
      "\n",
      "  hecho_provincia hecho_modalidad_comisiva hecho_fecha         fuente_tipo  \\\n",
      "0       Río Negro                   GOLPES  2014-11-20  MEDIO COMUNICACIÓN   \n",
      "1         Córdoba          ACUCHILLAMIENTO  2015-08-04  MEDIO COMUNICACIÓN   \n",
      "2        Santa Fe          DISPARO DE BALA  2014-11-02  MEDIO COMUNICACIÓN   \n",
      "3             NaN               QUEMADURAS  2016-01-22  MEDIO COMUNICACIÓN   \n",
      "4         Neuquen          DISPARO DE BALA  2016-01-24  MEDIO COMUNICACIÓN   \n",
      "\n",
      "                                         fuente_link  hecho_provincia_id  \n",
      "0  http://www.diariouno.com.ar/policiales/una-men...                62.0  \n",
      "1  http://www.diariopopular.com.ar/notas/233296-p...                14.0  \n",
      "2  http://www.elciudadanoweb.com/balean-frente-de...                82.0  \n",
      "3  http://www.cadena3.com/contenido/2016/01/22/Ha...                 NaN  \n",
      "4  https://www.lmneuquen.com/se-volvera-hacer-un-...                58.0  \n"
     ]
    }
   ],
   "source": [
    "#Mostrar las primeras 5 columnas del DataFrame\n",
    "print(df.head())"
   ]
  },
  {
   "cell_type": "code",
   "execution_count": 6,
   "id": "1cd303b5",
   "metadata": {},
   "outputs": [
    {
     "data": {
      "text/html": [
       "<div>\n",
       "<style scoped>\n",
       "    .dataframe tbody tr th:only-of-type {\n",
       "        vertical-align: middle;\n",
       "    }\n",
       "\n",
       "    .dataframe tbody tr th {\n",
       "        vertical-align: top;\n",
       "    }\n",
       "\n",
       "    .dataframe thead th {\n",
       "        text-align: right;\n",
       "    }\n",
       "</style>\n",
       "<table border=\"1\" class=\"dataframe\">\n",
       "  <thead>\n",
       "    <tr style=\"text-align: right;\">\n",
       "      <th></th>\n",
       "      <th>victima_edad</th>\n",
       "      <th>victima_identidad_genero</th>\n",
       "      <th>victima_tipo</th>\n",
       "      <th>hecho_provincia</th>\n",
       "      <th>hecho_modalidad_comisiva</th>\n",
       "      <th>hecho_fecha</th>\n",
       "    </tr>\n",
       "  </thead>\n",
       "  <tbody>\n",
       "    <tr>\n",
       "      <th>0</th>\n",
       "      <td>47.0</td>\n",
       "      <td>MUJER</td>\n",
       "      <td>PRINCIPAL</td>\n",
       "      <td>Río Negro</td>\n",
       "      <td>GOLPES</td>\n",
       "      <td>2014-11-20</td>\n",
       "    </tr>\n",
       "    <tr>\n",
       "      <th>1</th>\n",
       "      <td>7.0</td>\n",
       "      <td>HOMBRE</td>\n",
       "      <td>VINCULADO</td>\n",
       "      <td>Córdoba</td>\n",
       "      <td>ACUCHILLAMIENTO</td>\n",
       "      <td>2015-08-04</td>\n",
       "    </tr>\n",
       "    <tr>\n",
       "      <th>2</th>\n",
       "      <td>18.0</td>\n",
       "      <td>MUJER</td>\n",
       "      <td>PRINCIPAL</td>\n",
       "      <td>Santa Fe</td>\n",
       "      <td>DISPARO DE BALA</td>\n",
       "      <td>2014-11-02</td>\n",
       "    </tr>\n",
       "    <tr>\n",
       "      <th>3</th>\n",
       "      <td>46.0</td>\n",
       "      <td>MUJER</td>\n",
       "      <td>PRINCIPAL</td>\n",
       "      <td>NaN</td>\n",
       "      <td>QUEMADURAS</td>\n",
       "      <td>2016-01-22</td>\n",
       "    </tr>\n",
       "    <tr>\n",
       "      <th>4</th>\n",
       "      <td>27.0</td>\n",
       "      <td>MUJER</td>\n",
       "      <td>PRINCIPAL</td>\n",
       "      <td>Neuquen</td>\n",
       "      <td>DISPARO DE BALA</td>\n",
       "      <td>2016-01-24</td>\n",
       "    </tr>\n",
       "    <tr>\n",
       "      <th>...</th>\n",
       "      <td>...</td>\n",
       "      <td>...</td>\n",
       "      <td>...</td>\n",
       "      <td>...</td>\n",
       "      <td>...</td>\n",
       "      <td>...</td>\n",
       "    </tr>\n",
       "    <tr>\n",
       "      <th>1320</th>\n",
       "      <td>44.0</td>\n",
       "      <td>MUJER</td>\n",
       "      <td>PRINCIPAL</td>\n",
       "      <td>Mendoza</td>\n",
       "      <td>DISPARO DE BALA</td>\n",
       "      <td>2019-03-14</td>\n",
       "    </tr>\n",
       "    <tr>\n",
       "      <th>1321</th>\n",
       "      <td>54.0</td>\n",
       "      <td>MUJER</td>\n",
       "      <td>PRINCIPAL</td>\n",
       "      <td>Buenos Aires</td>\n",
       "      <td>OTROS</td>\n",
       "      <td>2019-03-17</td>\n",
       "    </tr>\n",
       "    <tr>\n",
       "      <th>1322</th>\n",
       "      <td>37.0</td>\n",
       "      <td>MUJER</td>\n",
       "      <td>PRINCIPAL</td>\n",
       "      <td>Ciudad Autónoma de Bs.As.</td>\n",
       "      <td>DESCUARTIZAMIENTO</td>\n",
       "      <td>2019-03-17</td>\n",
       "    </tr>\n",
       "    <tr>\n",
       "      <th>1323</th>\n",
       "      <td>59.0</td>\n",
       "      <td>MUJER</td>\n",
       "      <td>PRINCIPAL</td>\n",
       "      <td>Buenos Aires</td>\n",
       "      <td>APUÑALAMIENTO</td>\n",
       "      <td>2019-03-16</td>\n",
       "    </tr>\n",
       "    <tr>\n",
       "      <th>1324</th>\n",
       "      <td>59.0</td>\n",
       "      <td>MUJER</td>\n",
       "      <td>PRINCIPAL</td>\n",
       "      <td>Catamarca</td>\n",
       "      <td>GOLPES</td>\n",
       "      <td>2019-03-27</td>\n",
       "    </tr>\n",
       "  </tbody>\n",
       "</table>\n",
       "<p>1325 rows × 6 columns</p>\n",
       "</div>"
      ],
      "text/plain": [
       "      victima_edad victima_identidad_genero victima_tipo  \\\n",
       "0             47.0                    MUJER    PRINCIPAL   \n",
       "1              7.0                   HOMBRE    VINCULADO   \n",
       "2             18.0                    MUJER    PRINCIPAL   \n",
       "3             46.0                    MUJER    PRINCIPAL   \n",
       "4             27.0                    MUJER    PRINCIPAL   \n",
       "...            ...                      ...          ...   \n",
       "1320          44.0                    MUJER    PRINCIPAL   \n",
       "1321          54.0                    MUJER    PRINCIPAL   \n",
       "1322          37.0                    MUJER    PRINCIPAL   \n",
       "1323          59.0                    MUJER    PRINCIPAL   \n",
       "1324          59.0                    MUJER    PRINCIPAL   \n",
       "\n",
       "                hecho_provincia hecho_modalidad_comisiva hecho_fecha  \n",
       "0                     Río Negro                   GOLPES  2014-11-20  \n",
       "1                       Córdoba          ACUCHILLAMIENTO  2015-08-04  \n",
       "2                      Santa Fe          DISPARO DE BALA  2014-11-02  \n",
       "3                           NaN               QUEMADURAS  2016-01-22  \n",
       "4                       Neuquen          DISPARO DE BALA  2016-01-24  \n",
       "...                         ...                      ...         ...  \n",
       "1320                    Mendoza          DISPARO DE BALA  2019-03-14  \n",
       "1321               Buenos Aires                    OTROS  2019-03-17  \n",
       "1322  Ciudad Autónoma de Bs.As.        DESCUARTIZAMIENTO  2019-03-17  \n",
       "1323               Buenos Aires            APUÑALAMIENTO  2019-03-16  \n",
       "1324                  Catamarca                   GOLPES  2019-03-27  \n",
       "\n",
       "[1325 rows x 6 columns]"
      ]
     },
     "execution_count": 6,
     "metadata": {},
     "output_type": "execute_result"
    }
   ],
   "source": [
    "#Eliminacion de columnas - Creacion de un nuevo DataFrame\n",
    "df2 = df.drop([\"caso_numero\", \"fuente_tipo\", \"fuente_link\", \"hecho_provincia_id\"], axis = 1)\n",
    "df2"
   ]
  },
  {
   "cell_type": "code",
   "execution_count": 7,
   "id": "68580aa9",
   "metadata": {},
   "outputs": [
    {
     "data": {
      "text/plain": [
       "(1325, 6)"
      ]
     },
     "execution_count": 7,
     "metadata": {},
     "output_type": "execute_result"
    }
   ],
   "source": [
    "#Estructura del DataFrame - Columnas y Filas.\n",
    "df2.shape"
   ]
  },
  {
   "cell_type": "code",
   "execution_count": 8,
   "id": "341d51db",
   "metadata": {},
   "outputs": [
    {
     "data": {
      "text/plain": [
       "victima_edad                1264\n",
       "victima_identidad_genero    1259\n",
       "victima_tipo                1325\n",
       "hecho_provincia             1267\n",
       "hecho_modalidad_comisiva    1200\n",
       "hecho_fecha                 1289\n",
       "dtype: int64"
      ]
     },
     "execution_count": 8,
     "metadata": {},
     "output_type": "execute_result"
    }
   ],
   "source": [
    "#Cantidad de Registros por columna.\n",
    "df2.count()"
   ]
  },
  {
   "cell_type": "code",
   "execution_count": 9,
   "id": "ca049a9c",
   "metadata": {},
   "outputs": [
    {
     "data": {
      "text/plain": [
       "victima_edad                 61\n",
       "victima_identidad_genero     66\n",
       "victima_tipo                  0\n",
       "hecho_provincia              58\n",
       "hecho_modalidad_comisiva    125\n",
       "hecho_fecha                  36\n",
       "dtype: int64"
      ]
     },
     "execution_count": 9,
     "metadata": {},
     "output_type": "execute_result"
    }
   ],
   "source": [
    "# Analisis Nulos\n",
    "df2.isnull().sum()"
   ]
  },
  {
   "cell_type": "code",
   "execution_count": 10,
   "id": "6e758aca",
   "metadata": {
    "scrolled": true
   },
   "outputs": [
    {
     "data": {
      "text/plain": [
       "victima_edad                float64\n",
       "victima_identidad_genero     object\n",
       "victima_tipo                 object\n",
       "hecho_provincia              object\n",
       "hecho_modalidad_comisiva     object\n",
       "hecho_fecha                  object\n",
       "dtype: object"
      ]
     },
     "execution_count": 10,
     "metadata": {},
     "output_type": "execute_result"
    }
   ],
   "source": [
    "#Tipos de datos por columna\n",
    "df2.dtypes"
   ]
  },
  {
   "cell_type": "code",
   "execution_count": 13,
   "id": "a9519991",
   "metadata": {},
   "outputs": [],
   "source": [
    "#Cambio de tipo de dato\n",
    "df2[\"hecho_fecha\"] = pd.to_datetime(df2[\"hecho_fecha\"])\n"
   ]
  },
  {
   "cell_type": "code",
   "execution_count": 15,
   "id": "ab3dac29",
   "metadata": {},
   "outputs": [
    {
     "name": "stdout",
     "output_type": "stream",
     "text": [
      "999.0\n"
     ]
    }
   ],
   "source": [
    "#Analisis columna victima_edad \n",
    "print(max(df2.victima_edad))"
   ]
  },
  {
   "cell_type": "code",
   "execution_count": 16,
   "id": "dc390424",
   "metadata": {},
   "outputs": [
    {
     "name": "stdout",
     "output_type": "stream",
     "text": [
      "      victima_edad victima_identidad_genero victima_tipo hecho_provincia  \\\n",
      "930          999.0                    MUJER    PRINCIPAL         Tucumán   \n",
      "1019         999.0                    MUJER    PRINCIPAL             NaN   \n",
      "350           99.0                    MUJER    PRINCIPAL           Chaco   \n",
      "1227          90.0                    MUJER    PRINCIPAL         Córdoba   \n",
      "740           90.0                    MUJER    VINCULADO             NaN   \n",
      "...            ...                      ...          ...             ...   \n",
      "1157           NaN              TRANSGENERO    PRINCIPAL    Buenos Aires   \n",
      "1216           NaN                    MUJER    PRINCIPAL           Salta   \n",
      "1282           NaN              TRANSGENERO    PRINCIPAL           Salta   \n",
      "1292           NaN              TRANSGENERO    PRINCIPAL    Buenos Aires   \n",
      "1298           NaN              TRANSGENERO    PRINCIPAL         Tucumán   \n",
      "\n",
      "     hecho_modalidad_comisiva hecho_fecha  \n",
      "930                    GOLPES  2014-06-22  \n",
      "1019                      NaN         NaT  \n",
      "350           DISPARO DE BALA  2019-05-14  \n",
      "1227          ACUCHILLAMIENTO  2016-11-04  \n",
      "740           ACUCHILLAMIENTO  2016-10-23  \n",
      "...                       ...         ...  \n",
      "1157            DEGOLLAMIENTO  2017-07-05  \n",
      "1216                  ASFIXIA  2018-03-20  \n",
      "1282                   GOLPES  2019-01-28  \n",
      "1292          DISPARO DE BALA  2019-02-03  \n",
      "1298          ACUCHILLAMIENTO  2018-01-13  \n",
      "\n",
      "[1325 rows x 6 columns]\n"
     ]
    }
   ],
   "source": [
    "#Encontrar las filas con valores extremos\n",
    "df_ordenado = df2.sort_values(by=\"victima_edad\", ascending=False)\n",
    "print(df_ordenado)\n",
    "\n"
   ]
  },
  {
   "cell_type": "code",
   "execution_count": 19,
   "id": "36d9282c",
   "metadata": {},
   "outputs": [
    {
     "data": {
      "text/html": [
       "<div>\n",
       "<style scoped>\n",
       "    .dataframe tbody tr th:only-of-type {\n",
       "        vertical-align: middle;\n",
       "    }\n",
       "\n",
       "    .dataframe tbody tr th {\n",
       "        vertical-align: top;\n",
       "    }\n",
       "\n",
       "    .dataframe thead th {\n",
       "        text-align: right;\n",
       "    }\n",
       "</style>\n",
       "<table border=\"1\" class=\"dataframe\">\n",
       "  <thead>\n",
       "    <tr style=\"text-align: right;\">\n",
       "      <th></th>\n",
       "      <th>victima_edad</th>\n",
       "      <th>victima_identidad_genero</th>\n",
       "      <th>victima_tipo</th>\n",
       "      <th>hecho_provincia</th>\n",
       "      <th>hecho_modalidad_comisiva</th>\n",
       "      <th>hecho_fecha</th>\n",
       "    </tr>\n",
       "  </thead>\n",
       "  <tbody>\n",
       "    <tr>\n",
       "      <th>0</th>\n",
       "      <td>47.0</td>\n",
       "      <td>MUJER</td>\n",
       "      <td>PRINCIPAL</td>\n",
       "      <td>Río Negro</td>\n",
       "      <td>GOLPES</td>\n",
       "      <td>2014-11-20</td>\n",
       "    </tr>\n",
       "    <tr>\n",
       "      <th>1</th>\n",
       "      <td>7.0</td>\n",
       "      <td>HOMBRE</td>\n",
       "      <td>VINCULADO</td>\n",
       "      <td>Córdoba</td>\n",
       "      <td>ACUCHILLAMIENTO</td>\n",
       "      <td>2015-08-04</td>\n",
       "    </tr>\n",
       "    <tr>\n",
       "      <th>2</th>\n",
       "      <td>18.0</td>\n",
       "      <td>MUJER</td>\n",
       "      <td>PRINCIPAL</td>\n",
       "      <td>Santa Fe</td>\n",
       "      <td>DISPARO DE BALA</td>\n",
       "      <td>2014-11-02</td>\n",
       "    </tr>\n",
       "    <tr>\n",
       "      <th>3</th>\n",
       "      <td>46.0</td>\n",
       "      <td>MUJER</td>\n",
       "      <td>PRINCIPAL</td>\n",
       "      <td>NaN</td>\n",
       "      <td>QUEMADURAS</td>\n",
       "      <td>2016-01-22</td>\n",
       "    </tr>\n",
       "    <tr>\n",
       "      <th>4</th>\n",
       "      <td>27.0</td>\n",
       "      <td>MUJER</td>\n",
       "      <td>PRINCIPAL</td>\n",
       "      <td>Neuquen</td>\n",
       "      <td>DISPARO DE BALA</td>\n",
       "      <td>2016-01-24</td>\n",
       "    </tr>\n",
       "    <tr>\n",
       "      <th>...</th>\n",
       "      <td>...</td>\n",
       "      <td>...</td>\n",
       "      <td>...</td>\n",
       "      <td>...</td>\n",
       "      <td>...</td>\n",
       "      <td>...</td>\n",
       "    </tr>\n",
       "    <tr>\n",
       "      <th>1320</th>\n",
       "      <td>44.0</td>\n",
       "      <td>MUJER</td>\n",
       "      <td>PRINCIPAL</td>\n",
       "      <td>Mendoza</td>\n",
       "      <td>DISPARO DE BALA</td>\n",
       "      <td>2019-03-14</td>\n",
       "    </tr>\n",
       "    <tr>\n",
       "      <th>1321</th>\n",
       "      <td>54.0</td>\n",
       "      <td>MUJER</td>\n",
       "      <td>PRINCIPAL</td>\n",
       "      <td>Buenos Aires</td>\n",
       "      <td>OTROS</td>\n",
       "      <td>2019-03-17</td>\n",
       "    </tr>\n",
       "    <tr>\n",
       "      <th>1322</th>\n",
       "      <td>37.0</td>\n",
       "      <td>MUJER</td>\n",
       "      <td>PRINCIPAL</td>\n",
       "      <td>Ciudad Autónoma de Bs.As.</td>\n",
       "      <td>DESCUARTIZAMIENTO</td>\n",
       "      <td>2019-03-17</td>\n",
       "    </tr>\n",
       "    <tr>\n",
       "      <th>1323</th>\n",
       "      <td>59.0</td>\n",
       "      <td>MUJER</td>\n",
       "      <td>PRINCIPAL</td>\n",
       "      <td>Buenos Aires</td>\n",
       "      <td>APUÑALAMIENTO</td>\n",
       "      <td>2019-03-16</td>\n",
       "    </tr>\n",
       "    <tr>\n",
       "      <th>1324</th>\n",
       "      <td>59.0</td>\n",
       "      <td>MUJER</td>\n",
       "      <td>PRINCIPAL</td>\n",
       "      <td>Catamarca</td>\n",
       "      <td>GOLPES</td>\n",
       "      <td>2019-03-27</td>\n",
       "    </tr>\n",
       "  </tbody>\n",
       "</table>\n",
       "<p>1323 rows × 6 columns</p>\n",
       "</div>"
      ],
      "text/plain": [
       "      victima_edad victima_identidad_genero victima_tipo  \\\n",
       "0             47.0                    MUJER    PRINCIPAL   \n",
       "1              7.0                   HOMBRE    VINCULADO   \n",
       "2             18.0                    MUJER    PRINCIPAL   \n",
       "3             46.0                    MUJER    PRINCIPAL   \n",
       "4             27.0                    MUJER    PRINCIPAL   \n",
       "...            ...                      ...          ...   \n",
       "1320          44.0                    MUJER    PRINCIPAL   \n",
       "1321          54.0                    MUJER    PRINCIPAL   \n",
       "1322          37.0                    MUJER    PRINCIPAL   \n",
       "1323          59.0                    MUJER    PRINCIPAL   \n",
       "1324          59.0                    MUJER    PRINCIPAL   \n",
       "\n",
       "                hecho_provincia hecho_modalidad_comisiva hecho_fecha  \n",
       "0                     Río Negro                   GOLPES  2014-11-20  \n",
       "1                       Córdoba          ACUCHILLAMIENTO  2015-08-04  \n",
       "2                      Santa Fe          DISPARO DE BALA  2014-11-02  \n",
       "3                           NaN               QUEMADURAS  2016-01-22  \n",
       "4                       Neuquen          DISPARO DE BALA  2016-01-24  \n",
       "...                         ...                      ...         ...  \n",
       "1320                    Mendoza          DISPARO DE BALA  2019-03-14  \n",
       "1321               Buenos Aires                    OTROS  2019-03-17  \n",
       "1322  Ciudad Autónoma de Bs.As.        DESCUARTIZAMIENTO  2019-03-17  \n",
       "1323               Buenos Aires            APUÑALAMIENTO  2019-03-16  \n",
       "1324                  Catamarca                   GOLPES  2019-03-27  \n",
       "\n",
       "[1323 rows x 6 columns]"
      ]
     },
     "execution_count": 19,
     "metadata": {},
     "output_type": "execute_result"
    }
   ],
   "source": [
    "#Eliminar filas\n",
    "df2.drop([930, 1019], axis=0)"
   ]
  },
  {
   "cell_type": "code",
   "execution_count": 58,
   "id": "d17c39e5",
   "metadata": {},
   "outputs": [],
   "source": [
    "#Descarga csv limpio para su uso externo\n",
    "df2.to_csv(\"Data_Femicidios.csv\")"
   ]
  },
  {
   "cell_type": "code",
   "execution_count": 21,
   "id": "ecdd766b",
   "metadata": {},
   "outputs": [
    {
     "data": {
      "text/plain": [
       "0    23.0\n",
       "1    25.0\n",
       "dtype: float64"
      ]
     },
     "execution_count": 21,
     "metadata": {},
     "output_type": "execute_result"
    }
   ],
   "source": [
    "# Analisis estadistico - Moda\n",
    "moda = df2[\"victima_edad\"].mode()\n",
    "moda"
   ]
  },
  {
   "cell_type": "markdown",
   "id": "0bad93da",
   "metadata": {},
   "source": [
    "Grafica por Provincia"
   ]
  },
  {
   "cell_type": "code",
   "execution_count": 22,
   "id": "85ac4133",
   "metadata": {},
   "outputs": [
    {
     "data": {
      "text/plain": [
       "Buenos Aires                 402\n",
       "Córdoba                      133\n",
       "Santa Fe                      92\n",
       "Salta                         67\n",
       "Mendoza                       63\n",
       "Santiago del Estero           58\n",
       "Entre Ríos                    56\n",
       "Misiones                      52\n",
       "Chaco                         51\n",
       "Ciudad Autónoma de Bs.As.     45\n",
       "Tucumán                       38\n",
       "Corrientes                    37\n",
       "Jujuy                         28\n",
       "Chubut                        24\n",
       "Neuquen                       22\n",
       "Río Negro                     21\n",
       "Catamarca                     16\n",
       "Formosa                       15\n",
       "San Juan                      12\n",
       "San Luis                      11\n",
       "Santa Cruz                     7\n",
       "La Pampa                       7\n",
       "La Rioja                       6\n",
       "Tierra del Fuego               4\n",
       "Name: hecho_provincia, dtype: int64"
      ]
     },
     "execution_count": 22,
     "metadata": {},
     "output_type": "execute_result"
    }
   ],
   "source": [
    "#Conteo de casos por Provincia\n",
    "conteo = df2[\"hecho_provincia\"].value_counts()\n",
    "conteo"
   ]
  },
  {
   "cell_type": "code",
   "execution_count": 23,
   "id": "9439df54",
   "metadata": {},
   "outputs": [
    {
     "data": {
      "image/png": "[encoded data removed]",
      "text/plain": [
       "<Figure size 432x288 with 1 Axes>"
      ]
     },
     "metadata": {
      "needs_background": "light"
     },
     "output_type": "display_data"
    }
   ],
   "source": [
    "#Empezar a graficarlo.\n",
    "conteo.plot(kind=\"bar\")\n",
    "\n",
    "#Configurar ejes y titulo.\n",
    "plt.xlabel(\"Provincias\")\n",
    "plt.ylabel(\"Cantidad\")\n",
    "plt.title(\"Casos por Provincia\")\n",
    "\n",
    "#Mostrar Grafico.\n",
    "plt.show()"
   ]
  },
  {
   "cell_type": "markdown",
   "id": "3218dd91",
   "metadata": {},
   "source": [
    "Grafica Modalidad Comisiva."
   ]
  },
  {
   "cell_type": "code",
   "execution_count": 24,
   "id": "a0f249c1",
   "metadata": {},
   "outputs": [
    {
     "data": {
      "text/plain": [
       "DISPARO DE BALA      310\n",
       "ACUCHILLAMIENTO      270\n",
       "GOLPES               214\n",
       "ESTRANGULAMIENTO      77\n",
       "QUEMADURAS            76\n",
       "APUÑALAMIENTO         71\n",
       "ASFIXIA               47\n",
       "DEGOLLAMIENTO         31\n",
       "OTROS                 29\n",
       "AHORCAMIENTO          24\n",
       "ABUSO SEXUAL          21\n",
       "DESCUARTIZAMIENTO     13\n",
       "ATROPELLAMIENTO        5\n",
       "ENVENENAMIENTO         4\n",
       "AHOGAMIENTO            3\n",
       "DESBARRANCAMIENTO      2\n",
       "Empalamiento           2\n",
       "SUICIDIO INDUCIDO      1\n",
       "Name: hecho_modalidad_comisiva, dtype: int64"
      ]
     },
     "execution_count": 24,
     "metadata": {},
     "output_type": "execute_result"
    }
   ],
   "source": [
    "# Conteo de la modalidad comisiva\n",
    "hechos = df2[\"hecho_modalidad_comisiva\"].value_counts()\n",
    "hechos"
   ]
  },
  {
   "cell_type": "code",
   "execution_count": 25,
   "id": "f98fb894",
   "metadata": {},
   "outputs": [
    {
     "data": {
      "image/png": "[encoded data removed]",
      "text/plain": [
       "<Figure size 432x288 with 1 Axes>"
      ]
     },
     "metadata": {
      "needs_background": "light"
     },
     "output_type": "display_data"
    }
   ],
   "source": [
    "#Empezar a graficarlo\n",
    "hechos.plot(kind='bar')\n",
    "\n",
    "# Configurar los ejes y título\n",
    "plt.xlabel('Valores')\n",
    "plt.ylabel('Hechos')\n",
    "plt.title('Modalidad Comisiva')\n",
    "\n",
    "# Mostrar el gráfico\n",
    "plt.show()"
   ]
  },
  {
   "cell_type": "markdown",
   "id": "239ba07c",
   "metadata": {},
   "source": [
    "Grafica Genero de las Victimas."
   ]
  },
  {
   "cell_type": "code",
   "execution_count": 26,
   "id": "f8979e8d",
   "metadata": {},
   "outputs": [
    {
     "data": {
      "text/plain": [
       "MUJER          1173\n",
       "HOMBRE           49\n",
       "TRANSGENERO      37\n",
       "Name: victima_identidad_genero, dtype: int64"
      ]
     },
     "execution_count": 26,
     "metadata": {},
     "output_type": "execute_result"
    }
   ],
   "source": [
    "# Analisis Genero de las victimas\n",
    "genero = df2[\"victima_identidad_genero\"].value_counts()\n",
    "genero"
   ]
  },
  {
   "cell_type": "code",
   "execution_count": 27,
   "id": "302baa98",
   "metadata": {},
   "outputs": [
    {
     "data": {
      "image/png": "[encoded data removed]",
      "text/plain": [
       "<Figure size 432x288 with 1 Axes>"
      ]
     },
     "metadata": {},
     "output_type": "display_data"
    }
   ],
   "source": [
    "#Empezar a graficarlo\n",
    "genero.plot(kind='pie', )\n",
    "\n",
    "# Configurar los ejes y título\n",
    "\n",
    "plt.title('Genero de la victima')\n",
    "\n",
    "# Mostrar el gráfico\n",
    "plt.show()"
   ]
  },
  {
   "cell_type": "markdown",
   "id": "a35ca5b0",
   "metadata": {},
   "source": [
    "Analisis Años"
   ]
  },
  {
   "cell_type": "code",
   "execution_count": 57,
   "id": "0aaa9075",
   "metadata": {},
   "outputs": [
    {
     "name": "stdout",
     "output_type": "stream",
     "text": [
      "2019\n",
      "2008\n",
      "2017    274\n",
      "2016    234\n",
      "2015    203\n",
      "2014    185\n",
      "2013    154\n",
      "2018    153\n",
      "2019     77\n",
      "2012      7\n",
      "2008      1\n",
      "2009      1\n",
      "Freq: A-DEC, Name: hecho_fecha, dtype: int64\n"
     ]
    }
   ],
   "source": [
    "#Crear Variable para analisis\n",
    "anio_hecho = pd.to_datetime(df2[\"hecho_fecha\"]).dt.to_period(\"Y\")\n",
    "\n",
    "#Analisis año max que se registro\n",
    "print(anio_hecho.max())\n",
    "\n",
    "#Analisis año min que se registro\n",
    "print(anio_hecho.min())\n",
    "\n",
    "#Analisis Moda\n",
    "print(anio_hecho.value_counts())"
   ]
  },
  {
   "cell_type": "code",
   "execution_count": null,
   "id": "5f1b920c",
   "metadata": {},
   "outputs": [],
   "source": []
  }
 ],
 "metadata": {
  "kernelspec": {
   "display_name": "Python 3",
   "language": "python",
   "name": "python3"
  },
  "language_info": {
   "codemirror_mode": {
    "name": "ipython",
    "version": 3
   },
   "file_extension": ".py",
   "mimetype": "text/x-python",
   "name": "python",
   "nbconvert_exporter": "python",
   "pygments_lexer": "ipython3",
   "version": "3.8.8"
  }
 },
 "nbformat": 4,
 "nbformat_minor": 5
}
